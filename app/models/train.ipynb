{
 "cells": [
  {
   "cell_type": "code",
   "execution_count": null,
   "id": "bdaaf13a-c9fd-49c2-8f10-5ebd614dd645",
   "metadata": {},
   "outputs": [],
   "source": [
    "import pandas as pd\n",
    "import numpy as np\n",
    "from sklearn.model_selection import train_test_split\n",
    "from sklearn.linear_model import PassiveAggressiveClassifier\n",
    "from sklearn.feature_extraction.text import CountVectorizer, TfidfTransformer, TfidfVectorizer\n",
    "from sklearn.metrics import accuracy_score, f1_score, recall_score, precision_score\n",
    "\n",
    "import nltk\n",
    "import re\n",
    "from nltk.stem import WordNetLemmatizer\n",
    "from nltk.corpus import stopwords\n",
    "lemmatizer = WordNetLemmatizer()\n",
    "stopwords = set(stopwords.words('english'))"
   ]
  },
  {
   "cell_type": "code",
   "execution_count": null,
   "id": "33d623e0-a578-4a9a-aba9-ee50f0da7691",
   "metadata": {},
   "outputs": [],
   "source": [
    "train_df = pd.read_csv(\"train.csv\", header = 0)\n",
    "print(train_df.isna().sum())\n",
    "print(train_df.shape)"
   ]
  },
  {
   "cell_type": "code",
   "execution_count": null,
   "id": "f4e7436e-5ba4-4377-bff3-0b48f9db7655",
   "metadata": {},
   "outputs": [],
   "source": [
    "train_df = train_df.fillna(' ') # fill nans with a blank\n",
    "train_df['text'] = train_df['text'].str.strip() # strip them\n",
    "# count the length of each text\n",
    "train_df['text_length'] = train_df['text'].apply(lambda x: len(x)) \n",
    "print(\"There are {} rows with text length 0.\".format(len(train_df[train_df['text_length'] == 0])))\n",
    "# get text with text length greater than 0\n",
    "train_df = train_df[train_df['text_length'] > 0]\n",
    "print(train_df.shape)"
   ]
  },
  {
   "cell_type": "code",
   "execution_count": null,
   "id": "d3e9fe21-1050-46ce-b70a-b83f8a669d61",
   "metadata": {},
   "outputs": [],
   "source": [
    "def text_processing(x):\n",
    "    # to perserve only Latin characters, digits and spaces\n",
    "    cleaned_text = re.sub(r'[^a-zA-Z\\d\\s\\']+', '', x)\n",
    "    # tokenize (split) words\n",
    "    words = nltk.word_tokenize(cleaned_text)\n",
    "    # Create base word for each word\n",
    "    words_list = [lemmatizer.lemmatize(w.lower()) for w in words if w not in stopwords]\n",
    "    return \" \".join(words_list)\n",
    "    "
   ]
  },
  {
   "cell_type": "code",
   "execution_count": null,
   "id": "e7e5766a-9ebf-4b9f-bb0e-cd9a3beebeda",
   "metadata": {},
   "outputs": [],
   "source": [
    "train_df['base_text'] = train_df['text'].apply(lambda x: text_processing(x))\n",
    "print(\"Done\")"
   ]
  },
  {
   "cell_type": "code",
   "execution_count": null,
   "id": "0145fa84-96dd-41f5-9e55-bdc6a406118a",
   "metadata": {},
   "outputs": [],
   "source": [
    "print(train_df['text'][1][:100])\n",
    "print(\"-------------------\")\n",
    "print(train_df['base_text'][1][:100])"
   ]
  },
  {
   "cell_type": "code",
   "execution_count": null,
   "id": "45fe7c19-7727-4331-b3bf-e17ee6397f19",
   "metadata": {},
   "outputs": [],
   "source": [
    "# Get the target\n",
    "label = train_df['label'].values\n",
    "# An n-gram is just a string of n words in a row. E.g the sentence 'Python is cool' contains the 2-grams 'Python is' and 'is cool'.\n",
    "# And the final result if we use ngram_range = (1, 2) is [\"Python\", \"is\", \"cool\", \"Python is\", \"is cool\"]\n",
    "count_vectorizer = CountVectorizer(ngram_range = (1, 2)) # Initialize CountVectorizer with ngram_range = (1, 2)\n",
    "tfidf_transformer = TfidfTransformer(smooth_idf = False) # Initialze TfidfTransformer\n",
    "# fit and transform train data to count_vectorizer\n",
    "count_vect_train = count_vectorizer.fit_transform(train_df['base_text'].values)\n",
    "# fit and transform count_vect_train to tfidf_transformer\n",
    "tfidf_train = tfidf_transformer.fit_transform(count_vect_train)\n",
    "# Train test split\n",
    "x_train, x_test, y_train, y_test = train_test_split(tfidf_train, label, test_size = 0.2, random_state = 0)\n",
    "print(x_train.shape, y_train.shape)\n",
    "print(x_test.shape, y_test.shape)"
   ]
  },
  {
   "cell_type": "code",
   "execution_count": null,
   "id": "1ccb6966-b98a-409a-9fa3-ceeb696eadbb",
   "metadata": {},
   "outputs": [],
   "source": [
    "# Initialize Passive Aggressive Classifier\n",
    "pac = PassiveAggressiveClassifier(max_iter = 50)\n",
    "pac.fit(x_train, y_train)\n",
    "y_pred = pac.predict(x_test)\n",
    "print(\"Accuracy score: \", accuracy_score(y_pred, y_test))\n",
    "print(\"Precision score: \", precision_score(y_pred, y_test))\n",
    "print(\"F1 score: \", f1_score(y_pred, y_test))\n",
    "print(\"Recall score: \", recall_score(y_pred, y_test))"
   ]
  },
  {
   "cell_type": "code",
   "execution_count": null,
   "id": "75313942-a9b2-4493-8654-97280c9b9d6c",
   "metadata": {},
   "outputs": [],
   "source": [
    "# saving model\n",
    "# You need to save models in app/models folder, or just copy/cut to app/models folder. It's important.\n",
    "pickle.dump(count_vectorizer, open('count_vectorizer.pkl', 'wb'))\n",
    "pickle.dump(tfidf_transformer, open('tfidf_transformer.pkl', 'wb'))\n",
    "pickle.dump(pac, open('pac.pkl', 'wb'))"
   ]
  },
  {
   "cell_type": "code",
   "execution_count": null,
   "id": "c69686e1-cf13-4eb3-a9f8-02be666ab375",
   "metadata": {},
   "outputs": [],
   "source": [
    "# loading model\n",
    "count_vectorizer = pickle.load(open('count_vectorizer.pkl', 'rb'))\n",
    "tfidf_transformer = pickle.load(open('tfidf_transformer.pkl', 'rb'))\n",
    "pac = pickle.load(open('pac.pkl', 'rb'))"
   ]
  }
 ],
 "metadata": {
  "kernelspec": {
   "display_name": "Python 3 (ipykernel)",
   "language": "python",
   "name": "python3"
  },
  "language_info": {
   "codemirror_mode": {
    "name": "ipython",
    "version": 3
   },
   "file_extension": ".py",
   "mimetype": "text/x-python",
   "name": "python",
   "nbconvert_exporter": "python",
   "pygments_lexer": "ipython3",
   "version": "3.7.8"
  }
 },
 "nbformat": 4,
 "nbformat_minor": 5
}
